{
 "cells": [
  {
   "cell_type": "markdown",
   "metadata": {},
   "source": [
    "## Table: Games\n",
    "Game ID: un identificador único para cada juego (PK)\n",
    "\n",
    "Date_time: La fecha y hora en que se jugó el juego\n",
    "\n",
    "Player ID: Identificador del jugador o bot que jugó el juego (FK)"
   ]
  },
  {
   "cell_type": "markdown",
   "metadata": {},
   "source": [
    "## Table: Players\n",
    "\n",
    "Player ID: Identificador único para cada jugador/bot (PK)\n",
    "\n",
    "Player type: Indica si el jugador es humano o bot"
   ]
  },
  {
   "cell_type": "markdown",
   "metadata": {},
   "source": [
    "## Table: Rounds\n",
    "\n",
    "Round ID: Un identificador para cada ronda jugada dentro del juego (PK)\n",
    "\n",
    "Game ID: El identificador del juego (FK)\n",
    "\n",
    "Player's Initial Cards: Las cartas iniciales del jugador en la ronda\n",
    "\n",
    "Dealer's Initial Card: La carta inicial del crupier en la ronda\n",
    "\n",
    "Player's Final Cards: Las cartas finales del jugador en la ronda\n",
    "\n",
    "Dealer's Final Cards: Las cartas finales del crupier en la ronda\n",
    "\n",
    "Player's Initial Balance: El balance inicial del jugador en la ronda\n",
    "\n",
    "Player's Final Balance: El balance final del jugador en la ronda\n",
    "\n",
    "Initial Bet: La apuesta inicial del jugador en la ronda\n",
    "\n",
    "Final Bet: La apuesta final del jugador en la ronda (puede cambiar si el jugador decide duplicar, dividir, etc.)\n",
    "\n",
    "Outcome: El resultado de la ronda (puede ser \"win\", \"loss\", \"push\")"
   ]
  },
  {
   "cell_type": "markdown",
   "metadata": {},
   "source": [
    "## Table: Decisions\n",
    "\n",
    "Decision ID: Un identificador único para cada decisión tomada en la ronda (PK)\n",
    "\n",
    "Round ID: El identificador de la ronda en la que se tomó la decisión (FK)\n",
    "\n",
    "Decision: La decisión tomada (puede ser \"hit\", \"stand\", \"double\", \"split\", etc.)\n",
    "\n",
    "Cards After Decision: Las cartas del jugador después de la decisión\n",
    "\n",
    "Bet After Decision: La apuesta del jugador después de la decisión"
   ]
  },
  {
   "cell_type": "markdown",
   "metadata": {},
   "source": [
    "    Para manejar manos que sean split, podrías introducir un campo adicional en la tabla Rounds que indique si una ronda específica es el resultado de un split. Además, también podrías agregar un campo en la tabla Decisions para indicar si la decisión tomada fue dividir la mano, y en ese caso, registrar en qué manos se dividió.\n",
    "\n",
    "    Además, deberías tener en cuenta que almacenar las cartas como un conjunto de strings puede ser menos eficiente que otras representaciones posibles. Por ejemplo, podrías representar cada carta como un número entero y luego traducirlo de nuevo a su representación en el juego en tu código."
   ]
  }
 ],
 "metadata": {
  "language_info": {
   "name": "python"
  },
  "orig_nbformat": 4
 },
 "nbformat": 4,
 "nbformat_minor": 2
}
