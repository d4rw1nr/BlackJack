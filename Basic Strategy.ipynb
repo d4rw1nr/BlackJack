{
 "cells": [
  {
   "attachments": {},
   "cell_type": "markdown",
   "metadata": {},
   "source": [
    "# Basic Strategy"
   ]
  },
  {
   "attachments": {},
   "cell_type": "markdown",
   "metadata": {},
   "source": [
    "**S** = Stand: Take no more cards\n",
    "\n",
    "**H** = Hit: Take another card\n",
    "\n",
    "**D** = Double: Double the wager, take exactly one more card, and then stand\n",
    "\n",
    "**SP** = Split: Double the wager and have each card be the first card in a new hand. This option is available only when both cards have the same value. Sometimes two face cards will be considered acceptable for splitting, as each is 10 points.\n",
    "\n",
    "**Rh** = Surrender if allowed, otherwise Hit\n",
    "\n",
    "**Rs** = Surrender if allowed, otherwise Stand\n",
    "\n",
    "**Rsp** = Surrender if allowed, otherwise Split"
   ]
  },
  {
   "attachments": {},
   "cell_type": "markdown",
   "metadata": {},
   "source": [
    "**Hard Totals**\n",
    "|Player\\Croupier| 2 | 3 | 4 | 5 | 6 | 7 | 8 | 9 | 10 | A |\n",
    "|---|---|---|---|---|---|---|---|---|---|---|\n",
    "|18-20|S|S|S|S|S|S|S|S|S|S|\n",
    "|17   |S|S|S|S|S|S|S|S|S|Rs|\n",
    "|16   |S|S|S|S|S|H|H|Rh|Rh|Rh|\n",
    "|15   |S|S|S|S|S|H|H|H|Rh|Rh|\n",
    "|13-14|S|S|S|S|S|H|H|H|H|H|\n",
    "|12   |H|H|S|S|S|H|H|H|H|H|\n",
    "|11   |D|D|D|D|D|D|D|D|D|H|\n",
    "|10   |D|D|D|D|D|D|D|D|H|H|\n",
    "|9    |H|D|D|D|D|H|H|H|H|H|\n",
    "|5-8  |H|H|H|H|H|H|H|H|H|H|"
   ]
  },
  {
   "attachments": {},
   "cell_type": "markdown",
   "metadata": {},
   "source": [
    "**Soft Totals**\n",
    "|Player\\Croupier| 2 | 3 | 4 | 5 | 6 | 7 | 8 | 9 | 10 | A |\n",
    "|---|---|---|---|---|---|---|---|---|---|---|\n",
    "|A,9|S|S|S|S|S|S|S|S|S|S|\n",
    "|A,8|S|S|S|S|D|S|S|S|S|S|\n",
    "|A,7|D|D|D|D|D|S|S|H|H|H|\n",
    "|A,6|H|D|D|D|D|H|H|H|H|H|\n",
    "|A,4-5|H|H|D|D|D|H|H|H|H|H|\n",
    "|A,2-3|H|H|H|D|D|H|H|H|H|H|\n"
   ]
  },
  {
   "attachments": {},
   "cell_type": "markdown",
   "metadata": {},
   "source": [
    "**Pairs**\n",
    "|Player\\Croupier| 2 | 3 | 4 | 5 | 6 | 7 | 8 | 9 | 10 | A |\n",
    "|---|---|---|---|---|---|---|---|---|---|---|\n",
    "|A,A  |SP|SP|SP|SP|SP|SP|SP|SP|SP|SP|\n",
    "|10,10|S|S|S|S|S|S|S|S|S|S|\n",
    "|9,9  |SP|SP|SP|SP|SP|S|SP|SP|S|S|\n",
    "|8,8  |SP|SP|SP|SP|SP|SP|SP|SP|SP|Rsp|\n",
    "|7,7  |SP|SP|SP|SP|SP|SP|H|H|H|H|\n",
    "|6,6  |SP|SP|SP|SP|SP|H|H|H|H|H|\n",
    "|5,5  |D|D|D|D|D|D|D|D|H|H|\n",
    "|4,4  |H|H|H|SP|SP|H|H|H|H|H|\n",
    "|2,2 3,3|SP|SP|SP|SP|SP|SP|H|H|H|H|"
   ]
  },
  {
   "attachments": {},
   "cell_type": "markdown",
   "metadata": {},
   "source": [
    "FlowChart\n",
    "\n",
    "![BasicStrategyFlowChart](BasicStrategyFlowChart.jpg)"
   ]
  },
  {
   "cell_type": "code",
   "execution_count": 9,
   "metadata": {},
   "outputs": [
    {
     "data": {
      "text/plain": [
       "[['A', 'K', 'Q'], 31]"
      ]
     },
     "execution_count": 9,
     "metadata": {},
     "output_type": "execute_result"
    }
   ],
   "source": [
    "deck_values = {\"A\":11, \"2\": 2, \"3\":3, \"4\":4, \"5\":5, \"6\":6, \"7\":7, \"8\":8, \"9\":9, \"10\":10, \"J\":10, \"Q\":10, \"K\":10}\n",
    "croupier = [['A','K','Q'],0]\n",
    "for cards in croupier[0]:\n",
    "        croupier[1] = croupier[1] + deck_values[cards]\n",
    "\n",
    "croupier"
   ]
  }
 ],
 "metadata": {
  "kernelspec": {
   "display_name": "DS",
   "language": "python",
   "name": "python3"
  },
  "language_info": {
   "codemirror_mode": {
    "name": "ipython",
    "version": 3
   },
   "file_extension": ".py",
   "mimetype": "text/x-python",
   "name": "python",
   "nbconvert_exporter": "python",
   "pygments_lexer": "ipython3",
   "version": "3.10.11"
  },
  "orig_nbformat": 4
 },
 "nbformat": 4,
 "nbformat_minor": 2
}
